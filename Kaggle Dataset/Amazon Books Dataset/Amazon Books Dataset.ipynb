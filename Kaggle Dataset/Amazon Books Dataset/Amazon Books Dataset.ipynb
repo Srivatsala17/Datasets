{
 "cells": [
  {
   "cell_type": "code",
   "execution_count": 12,
   "id": "d56b72c3-9484-4189-b8f8-1e7aefc3591c",
   "metadata": {},
   "outputs": [
    {
     "name": "stdout",
     "output_type": "stream",
     "text": [
      "Dataset URL: https://www.kaggle.com/datasets/chhavidhankhar11/amazon-books-dataset\n",
      "All datasets have been downloaded and unzipped.\n"
     ]
    }
   ],
   "source": [
    "\"\"\" read kaggle documentation and create key\n",
    "go to accounts-- settings-- create key - a json file will be downloaded which will have the username and api key\n",
    "inside the json file the credentials will be displayed in teh dictionary as follows\n",
    "{\"username\":\"srivatsalaka\",\"key\":\"4387c6aa13bd61518a0370a07b936df1\"}\n",
    "after the file id downloaded and when the code is executed got error\n",
    "error msg - OSError: Could not find kaggle.json. Make sure it's located in C:\\Users\\kaana\\.kaggle. Or use the environment method. \n",
    "See setup instructions at https://github.com/Kaggle/kaggle-api/\n",
    "chceked what is environment method and found there is a library os and we can use os.environ to config the file\n",
    "alternatively we can also copy this downloaded file and paste it in the location that is shown in the error code\n",
    "pip install kaggle on terminal to use kaggle library \"\"\"\n",
    "\n",
    "# the file size is 555kb so downloaded in seconds\n",
    "\n",
    "\n",
    "import kaggle\n",
    "import json\n",
    "import os\n",
    "\n",
    "# Load credentials from config file\n",
    "with open('C:\\\\Users\\\\kaana\\\\.kaggle\\\\kaggle.json') as config_file:\n",
    "    config = json.load(config_file)\n",
    "\n",
    "# Set your Kaggle API credentials using environment variables\n",
    "os.environ['KAGGLE_USERNAME'] = config['username']\n",
    "os.environ['KAGGLE_KEY'] = config['key']\n",
    "\n",
    "# Authenticate using the Kaggle API\n",
    "kaggle.api.authenticate()\n",
    "\n",
    "# Download the dataset\n",
    "dataset_url = 'chhavidhankhar11/amazon-books-dataset'\n",
    "kaggle.api.dataset_download_files(dataset_url, path='.', unzip=True)\n",
    "\n",
    "print(\"All datasets have been downloaded and unzipped.\")\n",
    "\n",
    "\n",
    "#all the files will be downloaded to same directory\n",
    "\n",
    "\n",
    "\n"
   ]
  },
  {
   "cell_type": "code",
   "execution_count": null,
   "id": "d8a3c53d-f847-4d28-85fd-5507ba072699",
   "metadata": {},
   "outputs": [],
   "source": []
  }
 ],
 "metadata": {
  "kernelspec": {
   "display_name": "Python 3 (ipykernel)",
   "language": "python",
   "name": "python3"
  },
  "language_info": {
   "codemirror_mode": {
    "name": "ipython",
    "version": 3
   },
   "file_extension": ".py",
   "mimetype": "text/x-python",
   "name": "python",
   "nbconvert_exporter": "python",
   "pygments_lexer": "ipython3",
   "version": "3.12.5"
  }
 },
 "nbformat": 4,
 "nbformat_minor": 5
}
